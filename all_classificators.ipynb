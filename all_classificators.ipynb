{
 "cells": [
  {
   "cell_type": "code",
   "execution_count": 1,
   "metadata": {
    "collapsed": false
   },
   "outputs": [],
   "source": [
    "from sklearn.model_selection import train_test_split\n",
    "from sklearn.feature_extraction.text import CountVectorizer\n",
    "from sklearn.feature_extraction.text import TfidfTransformer\n",
    "from sklearn.feature_extraction.text import TfidfVectorizer\n",
    "from sklearn.naive_bayes import MultinomialNB\n",
    "from sklearn import svm\n",
    "from sklearn.linear_model import LogisticRegression\n",
    "from sklearn.linear_model import Perceptron\n",
    "\n",
    "#####Carregand a base de treino#####\n",
    "\n",
    "with open(\"base_treino_secretaria.csv\", encoding='utf-8') as f:\n",
    "    sentencas = f.read().split(\"\\n\")\n",
    "\n",
    "label = []\n",
    "interacao = []\n",
    "\n",
    "for sentenca in sentencas[:-1]:\n",
    "    sentenca = sentenca.split(\";\")\n",
    "    label.append(sentenca[0])\n",
    "    interacao.append(sentenca[1])\n",
    "\n",
    "####Carregando a base de stop words do PT#####\n",
    "\n",
    "with open(\"stop_words.csv\", encoding=\"utf-8\") as f:\n",
    "    pt_stop_words = f.read().split(\"\\n\")\n",
    "\n",
    "####Tratando as features da base de treino####\n",
    "\n",
    "tfidf = TfidfVectorizer(sublinear_tf=True, min_df=5, norm='l2', encoding='latin-1', ngram_range=(1, 2), stop_words = pt_stop_words)\n",
    "features = tfidf.fit_transform(interacao).toarray()\n",
    "labels = label\n",
    "\n",
    "count_vect = CountVectorizer()\n",
    "X_train_counts = count_vect.fit_transform(interacao)\n",
    "tfidf_transformer = TfidfTransformer()\n",
    "X_train_tfidf = tfidf_transformer.fit_transform(X_train_counts)\n",
    "\n",
    "#### Instanciando modelos####\n",
    "NB = MultinomialNB().fit(X_train_tfidf, labels)\n",
    "prcpt = Perceptron().fit(X_train_tfidf, labels)\n",
    "SVM = svm.SVC(kernel='linear', C=0.1).fit(X_train_tfidf, labels)\n",
    "log = LogisticRegression().fit(X_train_tfidf, labels)"
   ]
  },
  {
   "cell_type": "code",
   "execution_count": 2,
   "metadata": {
    "collapsed": false
   },
   "outputs": [],
   "source": [
    "####Avaliando cada Classificador####\n",
    "from NB import naive_bayes\n",
    "with open(\"teste_maior.csv\", encoding=\"utf-8\") as f:\n",
    "    test_dados = f.read().split(\"\\n\")\n",
    "    \n",
    "    x_test = []\n",
    "    y_test = []\n",
    "    for linha in test_dados[:-1]:\n",
    "        linha = linha.split(';')\n",
    "        x_test.append(linha[1])\n",
    "        y_test.append(linha[0])\n",
    "        \n",
    "y_pred_prcpt =[]\n",
    "y_pred_SVM = []\n",
    "y_pred_log = []\n",
    "y_pred_NB_sk = []\n",
    "y_pred_NB = []\n",
    "for x,y in zip(x_test,y_test):\n",
    "    prediction = (prcpt.predict(count_vect.transform([x])))\n",
    "    y_pred_prcpt.append(prediction[0])\n",
    "    prediction = (SVM.predict(count_vect.transform([x])))\n",
    "    y_pred_SVM.append(prediction[0])\n",
    "    prediction = (log.predict(count_vect.transform([x])))\n",
    "    y_pred_log.append(prediction[0])\n",
    "    prediction = (NB.predict(count_vect.transform([x])))\n",
    "    y_pred_NB_sk.append(prediction[0])\n",
    "    prediction = (naive_bayes(x))\n",
    "    y_pred_NB.append(prediction)"
   ]
  },
  {
   "cell_type": "code",
   "execution_count": 3,
   "metadata": {
    "collapsed": false
   },
   "outputs": [],
   "source": [
    "import pandas as pd\n",
    "df_prcpt = pd.DataFrame()\n",
    "df_prcpt['true'] = y_test\n",
    "df_prcpt['predicted'] = y_pred_prcpt\n",
    "df_SVM = pd.DataFrame()\n",
    "df_SVM['true'] = y_test\n",
    "df_SVM['predicted'] = y_pred_SVM\n",
    "df_log = pd.DataFrame()\n",
    "df_log['true'] = y_test\n",
    "df_log['predicted'] = y_pred_log\n",
    "df_NB_sk = pd.DataFrame()\n",
    "df_NB_sk['true'] = y_test\n",
    "df_NB_sk['predicted'] = y_pred_NB_sk\n",
    "df_NB = pd.DataFrame()\n",
    "df_NB['true'] = y_test\n",
    "df_NB['predicted'] = y_pred_NB"
   ]
  },
  {
   "cell_type": "code",
   "execution_count": 10,
   "metadata": {
    "collapsed": true
   },
   "outputs": [],
   "source": [
    "from sklearn.metrics import precision_score\n",
    "from sklearn.metrics import recall_score\n",
    "from sklearn.metrics import accuracy_score\n",
    "from numpy import mean\n",
    "\n",
    "#Entrada\n",
    "# tabela : tabela é um data.frame com strings e o array escroto com colunas com os nomes \"predicted\" e \"true\"\n",
    "\n",
    "def metricas(tabela):\n",
    "    #replace dos dados\n",
    "    tabela[\"predicted\"] = tabela[\"predicted\"].apply(lambda x : x.replace(\"\\'\",\"\"))\n",
    "    # pega todos os labels\n",
    "    labels = tabela.true.unique()\n",
    "    labels\n",
    "    precisions = []\n",
    "    recalls = []\n",
    "    accuracies = []\n",
    "    # calcula as métricas para cada label\n",
    "    for label in labels:\n",
    "        # binarize\n",
    "        true_bin = tabela[\"true\"] == label\n",
    "        predicted_bin = tabela[\"predicted\"] == label\n",
    "        # calculate metrics\n",
    "        precisions.append(precision_score(y_true=true_bin, y_pred=predicted_bin))\n",
    "        recalls.append(recall_score(y_true=true_bin, y_pred=predicted_bin))\n",
    "        accuracies.append(accuracy_score(y_true=true_bin, y_pred=predicted_bin))\n",
    "    #print(precisions)\n",
    "    print(\"Precisions average: \", mean(precisions))\n",
    "    print(\"\\nRecalls average: \", mean(recalls))\n",
    "    print(\"\\nAccuracies average: \", mean(accuracies))"
   ]
  },
  {
   "cell_type": "code",
   "execution_count": 11,
   "metadata": {
    "collapsed": false
   },
   "outputs": [
    {
     "name": "stdout",
     "output_type": "stream",
     "text": [
      "Precisions average:  0.914285714286\n",
      "\n",
      "Recalls average:  0.85\n",
      "\n",
      "Accuracies average:  0.936842105263\n"
     ]
    }
   ],
   "source": [
    "metricas(df_SVM)"
   ]
  },
  {
   "cell_type": "code",
   "execution_count": 12,
   "metadata": {
    "collapsed": false
   },
   "outputs": [
    {
     "name": "stdout",
     "output_type": "stream",
     "text": [
      "Precisions average:  0.96\n",
      "\n",
      "Recalls average:  0.95\n",
      "\n",
      "Accuracies average:  0.978947368421\n"
     ]
    }
   ],
   "source": [
    "metricas(df_log)"
   ]
  },
  {
   "cell_type": "code",
   "execution_count": 13,
   "metadata": {
    "collapsed": false
   },
   "outputs": [
    {
     "name": "stdout",
     "output_type": "stream",
     "text": [
      "Precisions average:  0.96\n",
      "\n",
      "Recalls average:  0.95\n",
      "\n",
      "Accuracies average:  0.978947368421\n"
     ]
    }
   ],
   "source": [
    "metricas(df_prcpt)"
   ]
  },
  {
   "cell_type": "code",
   "execution_count": 14,
   "metadata": {
    "collapsed": false
   },
   "outputs": [
    {
     "name": "stdout",
     "output_type": "stream",
     "text": [
      "Precisions average:  0.914285714286\n",
      "\n",
      "Recalls average:  0.86\n",
      "\n",
      "Accuracies average:  0.936842105263\n"
     ]
    }
   ],
   "source": [
    "metricas(df_NB_sk)"
   ]
  },
  {
   "cell_type": "code",
   "execution_count": 15,
   "metadata": {
    "collapsed": false
   },
   "outputs": [
    {
     "name": "stdout",
     "output_type": "stream",
     "text": [
      "Precisions average:  0.86\n",
      "\n",
      "Recalls average:  0.87\n",
      "\n",
      "Accuracies average:  0.936842105263\n"
     ]
    }
   ],
   "source": [
    "metricas(df_NB)"
   ]
  }
 ],
 "metadata": {
  "kernelspec": {
   "display_name": "Python 3",
   "language": "python",
   "name": "python3"
  },
  "language_info": {
   "codemirror_mode": {
    "name": "ipython",
    "version": 3
   },
   "file_extension": ".py",
   "mimetype": "text/x-python",
   "name": "python",
   "nbconvert_exporter": "python",
   "pygments_lexer": "ipython3",
   "version": "3.6.4"
  }
 },
 "nbformat": 4,
 "nbformat_minor": 2
}
