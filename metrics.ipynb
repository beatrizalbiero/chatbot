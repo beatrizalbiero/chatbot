{
 "cells": [
  {
   "cell_type": "code",
   "execution_count": 1,
   "metadata": {},
   "outputs": [],
   "source": [
    "from sklearn.model_selection import train_test_split\n",
    "from sklearn.feature_extraction.text import CountVectorizer\n",
    "from sklearn.feature_extraction.text import TfidfTransformer\n",
    "from sklearn.feature_extraction.text import TfidfVectorizer\n",
    "from sklearn.naive_bayes import MultinomialNB\n",
    "from sklearn import svm\n",
    "from sklearn.linear_model import LogisticRegression\n",
    "#from sklearn.linear_model import Perceptron\n",
    "\n",
    "#####Carregand a base de treino#####\n",
    "\n",
    "with open(\"base_treino_secretaria.csv\", encoding='utf-8') as f:\n",
    "    sentencas = f.read().split(\"\\n\")\n",
    "\n",
    "label = []\n",
    "interacao = []\n",
    "\n",
    "for sentenca in sentencas[:-1]:\n",
    "    sentenca = sentenca.split(\";\")\n",
    "    label.append(sentenca[0])\n",
    "    interacao.append(sentenca[1])\n",
    "\n",
    "####Carregando a base de stop words do PT#####\n",
    "\n",
    "with open(\"stop_words.csv\", encoding=\"utf-8\") as f:\n",
    "    pt_stop_words = f.read().split(\"\\n\")\n",
    "\n",
    "####Tratando as features da base de treino####\n",
    "\n",
    "tfidf = TfidfVectorizer(sublinear_tf=True, min_df=5, norm='l2', encoding='latin-1', ngram_range=(1, 2), stop_words = pt_stop_words)\n",
    "features = tfidf.fit_transform(interacao).toarray()\n",
    "labels = label\n",
    "\n",
    "count_vect = CountVectorizer()\n",
    "X_train_counts = count_vect.fit_transform(interacao)\n",
    "tfidf_transformer = TfidfTransformer()\n",
    "X_train_tfidf = tfidf_transformer.fit_transform(X_train_counts)\n",
    "\n",
    "#### Instanciando modelos####\n",
    "NB = MultinomialNB().fit(X_train_tfidf, labels)\n",
    "#prcpt = Perceptron().fit(X_train_tfidf, labels)\n",
    "SVM = svm.SVC(kernel='linear', C=0.1).fit(X_train_tfidf, labels)\n",
    "log = LogisticRegression().fit(X_train_tfidf, labels)"
   ]
  },
  {
   "cell_type": "code",
   "execution_count": 2,
   "metadata": {},
   "outputs": [],
   "source": [
    "####Avaliando cada Classificador####\n",
    "from NB import naive_bayes\n",
    "with open(\"base_teste_secretaria.csv\", encoding=\"utf-8\") as f:\n",
    "    test_dados = f.read().split(\"\\n\")\n",
    "    \n",
    "    x_test = []\n",
    "    y_test = []\n",
    "    for linha in test_dados[:-1]:\n",
    "        linha = linha.split(';')\n",
    "        x_test.append(linha[1])\n",
    "        y_test.append(linha[0])\n",
    "        \n",
    "#y_pred_prcpt =[]\n",
    "y_pred_SVM = []\n",
    "y_pred_log = []\n",
    "y_pred_NB_sk = []\n",
    "y_pred_NB = []\n",
    "for x,y in zip(x_test,y_test):\n",
    "#     prediction = (prcpt.predict(count_vect.transform([x])))\n",
    "#     y_pred_prcpt.append(prediction[0])\n",
    "    prediction = (SVM.predict(count_vect.transform([x])))\n",
    "    y_pred_SVM.append(prediction[0])\n",
    "    prediction = (log.predict(count_vect.transform([x])))\n",
    "    y_pred_log.append(prediction[0])\n",
    "    prediction = (NB.predict(count_vect.transform([x])))\n",
    "    y_pred_NB_sk.append(prediction[0])\n",
    "    prediction = (naive_bayes(x))\n",
    "    y_pred_NB.append(prediction)"
   ]
  },
  {
   "cell_type": "code",
   "execution_count": 3,
   "metadata": {},
   "outputs": [],
   "source": [
    "import pandas as pd\n",
    "# df_prcpt = pd.DataFrame()\n",
    "# df_prcpt['true'] = y_test\n",
    "# df_prcpt['predicted'] = y_pred_prcpt\n",
    "df_SVM = pd.DataFrame()\n",
    "df_SVM['true'] = y_test\n",
    "df_SVM['predicted'] = y_pred_SVM\n",
    "df_log = pd.DataFrame()\n",
    "df_log['true'] = y_test\n",
    "df_log['predicted'] = y_pred_log\n",
    "df_NB_sk = pd.DataFrame()\n",
    "df_NB_sk['true'] = y_test\n",
    "df_NB_sk['predicted'] = y_pred_NB_sk\n",
    "df_NB = pd.DataFrame()\n",
    "df_NB['true'] = y_test\n",
    "df_NB['predicted'] = y_pred_NB"
   ]
  },
  {
   "cell_type": "code",
   "execution_count": 4,
   "metadata": {},
   "outputs": [],
   "source": [
    "from sklearn.metrics import precision_score\n",
    "from sklearn.metrics import recall_score\n",
    "from sklearn.metrics import accuracy_score\n",
    "from numpy import mean\n",
    "\n",
    "#Entrada\n",
    "# tabela : tabela é um data.frame com strings e o array escroto com colunas com os nomes \"predicted\" e \"true\"\n",
    "\n",
    "def metricas(tabela):\n",
    "    #replace dos dados\n",
    "    tabela[\"predicted\"] = tabela[\"predicted\"].apply(lambda x : x.replace(\"\\'\",\"\"))\n",
    "    # pega todos os labels\n",
    "    labels = tabela.true.unique()\n",
    "    labels\n",
    "    precisions = []\n",
    "    recalls = []\n",
    "    accuracies = []\n",
    "    # calcula as métricas para cada label\n",
    "    for label in labels:\n",
    "        # binarize\n",
    "        true_bin = tabela[\"true\"] == label\n",
    "        predicted_bin = tabela[\"predicted\"] == label\n",
    "        # calculate metrics\n",
    "        precisions.append(precision_score(y_true=true_bin, y_pred=predicted_bin))\n",
    "        recalls.append(recall_score(y_true=true_bin, y_pred=predicted_bin))\n",
    "        accuracies.append(accuracy_score(y_true=true_bin, y_pred=predicted_bin))\n",
    "    #print(precisions)\n",
    "    print(\"Precisions average: \", mean(precisions))\n",
    "    print(\"\\nRecalls average: \", mean(recalls))\n",
    "    print(\"\\nAccuracies average: \", mean(accuracies))"
   ]
  },
  {
   "cell_type": "code",
   "execution_count": 5,
   "metadata": {},
   "outputs": [
    {
     "name": "stdout",
     "output_type": "stream",
     "text": [
      "Precisions average:  0.6799999999999999\n",
      "\n",
      "Recalls average:  0.7\n",
      "\n",
      "Accuracies average:  0.8800000000000001\n"
     ]
    },
    {
     "name": "stderr",
     "output_type": "stream",
     "text": [
      "C:\\Users\\beatriz.albiero\\AppData\\Local\\Continuum\\anaconda3\\lib\\site-packages\\sklearn\\metrics\\classification.py:1135: UndefinedMetricWarning: Precision is ill-defined and being set to 0.0 due to no predicted samples.\n",
      "  'precision', 'predicted', average, warn_for)\n"
     ]
    }
   ],
   "source": [
    "metricas(df_SVM)"
   ]
  },
  {
   "cell_type": "code",
   "execution_count": 6,
   "metadata": {},
   "outputs": [
    {
     "name": "stdout",
     "output_type": "stream",
     "text": [
      "Precisions average:  0.7\n",
      "\n",
      "Recalls average:  0.8\n",
      "\n",
      "Accuracies average:  0.9199999999999999\n"
     ]
    },
    {
     "name": "stderr",
     "output_type": "stream",
     "text": [
      "C:\\Users\\beatriz.albiero\\AppData\\Local\\Continuum\\anaconda3\\lib\\site-packages\\sklearn\\metrics\\classification.py:1135: UndefinedMetricWarning: Precision is ill-defined and being set to 0.0 due to no predicted samples.\n",
      "  'precision', 'predicted', average, warn_for)\n"
     ]
    }
   ],
   "source": [
    "metricas(df_log)"
   ]
  },
  {
   "cell_type": "code",
   "execution_count": 7,
   "metadata": {},
   "outputs": [
    {
     "name": "stdout",
     "output_type": "stream",
     "text": [
      "Precisions average:  0.6799999999999999\n",
      "\n",
      "Recalls average:  0.7\n",
      "\n",
      "Accuracies average:  0.8800000000000001\n"
     ]
    },
    {
     "name": "stderr",
     "output_type": "stream",
     "text": [
      "C:\\Users\\beatriz.albiero\\AppData\\Local\\Continuum\\anaconda3\\lib\\site-packages\\sklearn\\metrics\\classification.py:1135: UndefinedMetricWarning: Precision is ill-defined and being set to 0.0 due to no predicted samples.\n",
      "  'precision', 'predicted', average, warn_for)\n"
     ]
    }
   ],
   "source": [
    "metricas(df_NB_sk)"
   ]
  },
  {
   "cell_type": "code",
   "execution_count": 8,
   "metadata": {},
   "outputs": [
    {
     "name": "stdout",
     "output_type": "stream",
     "text": [
      "Precisions average:  0.9333333333333332\n",
      "\n",
      "Recalls average:  0.9\n",
      "\n",
      "Accuracies average:  0.96\n"
     ]
    }
   ],
   "source": [
    "metricas(df_NB)"
   ]
  },
  {
   "cell_type": "code",
   "execution_count": 9,
   "metadata": {},
   "outputs": [
    {
     "data": {
      "text/html": [
       "<div>\n",
       "<style scoped>\n",
       "    .dataframe tbody tr th:only-of-type {\n",
       "        vertical-align: middle;\n",
       "    }\n",
       "\n",
       "    .dataframe tbody tr th {\n",
       "        vertical-align: top;\n",
       "    }\n",
       "\n",
       "    .dataframe thead th {\n",
       "        text-align: right;\n",
       "    }\n",
       "</style>\n",
       "<table border=\"1\" class=\"dataframe\">\n",
       "  <thead>\n",
       "    <tr style=\"text-align: right;\">\n",
       "      <th></th>\n",
       "      <th>true</th>\n",
       "      <th>predicted</th>\n",
       "    </tr>\n",
       "  </thead>\n",
       "  <tbody>\n",
       "    <tr>\n",
       "      <th>0</th>\n",
       "      <td>contato</td>\n",
       "      <td>contato</td>\n",
       "    </tr>\n",
       "    <tr>\n",
       "      <th>1</th>\n",
       "      <td>localizacao</td>\n",
       "      <td>contato</td>\n",
       "    </tr>\n",
       "    <tr>\n",
       "      <th>2</th>\n",
       "      <td>horario</td>\n",
       "      <td>horario</td>\n",
       "    </tr>\n",
       "    <tr>\n",
       "      <th>3</th>\n",
       "      <td>despedida</td>\n",
       "      <td>despedida</td>\n",
       "    </tr>\n",
       "    <tr>\n",
       "      <th>4</th>\n",
       "      <td>despedida</td>\n",
       "      <td>despedida</td>\n",
       "    </tr>\n",
       "    <tr>\n",
       "      <th>5</th>\n",
       "      <td>saudacao</td>\n",
       "      <td>saudacao</td>\n",
       "    </tr>\n",
       "    <tr>\n",
       "      <th>6</th>\n",
       "      <td>contato</td>\n",
       "      <td>contato</td>\n",
       "    </tr>\n",
       "    <tr>\n",
       "      <th>7</th>\n",
       "      <td>despedida</td>\n",
       "      <td>despedida</td>\n",
       "    </tr>\n",
       "    <tr>\n",
       "      <th>8</th>\n",
       "      <td>localizacao</td>\n",
       "      <td>localizacao</td>\n",
       "    </tr>\n",
       "    <tr>\n",
       "      <th>9</th>\n",
       "      <td>horario</td>\n",
       "      <td>horario</td>\n",
       "    </tr>\n",
       "  </tbody>\n",
       "</table>\n",
       "</div>"
      ],
      "text/plain": [
       "          true    predicted\n",
       "0      contato      contato\n",
       "1  localizacao      contato\n",
       "2      horario      horario\n",
       "3    despedida    despedida\n",
       "4    despedida    despedida\n",
       "5     saudacao     saudacao\n",
       "6      contato      contato\n",
       "7    despedida    despedida\n",
       "8  localizacao  localizacao\n",
       "9      horario      horario"
      ]
     },
     "execution_count": 9,
     "metadata": {},
     "output_type": "execute_result"
    }
   ],
   "source": [
    "df_NB"
   ]
  },
  {
   "cell_type": "code",
   "execution_count": null,
   "metadata": {},
   "outputs": [],
   "source": []
  }
 ],
 "metadata": {
  "kernelspec": {
   "display_name": "Python 3",
   "language": "python",
   "name": "python3"
  },
  "language_info": {
   "codemirror_mode": {
    "name": "ipython",
    "version": 3
   },
   "file_extension": ".py",
   "mimetype": "text/x-python",
   "name": "python",
   "nbconvert_exporter": "python",
   "pygments_lexer": "ipython3",
   "version": "3.6.4"
  }
 },
 "nbformat": 4,
 "nbformat_minor": 2
}
