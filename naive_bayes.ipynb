{
 "cells": [
  {
   "cell_type": "code",
   "execution_count": 1,
   "metadata": {
    "collapsed": true
   },
   "outputs": [],
   "source": [
    "import nltk\n",
    "from nltk.corpus import stopwords\n",
    "from nltk.stem.snowball import SnowballStemmer\n",
    "import texto as t\n",
    "import math\n",
    "import pandas as pd\n",
    "import csv"
   ]
  },
  {
   "cell_type": "code",
   "execution_count": 2,
   "metadata": {
    "collapsed": false
   },
   "outputs": [],
   "source": [
    "import csv\n",
    "training_data = []\n",
    "\n",
    "with open('base_treino_secretaria.csv') as csvfile:\n",
    "    readCSV = csv.reader(csvfile, delimiter=';')\n",
    "    for row in readCSV:\n",
    "        training_data.append({\"class\": row[0], \"sentence\": row[1]})"
   ]
  },
  {
   "cell_type": "code",
   "execution_count": 3,
   "metadata": {
    "collapsed": false
   },
   "outputs": [
    {
     "data": {
      "text/plain": [
       "[{'class': 'saudacao', 'sentence': ' oi'},\n",
       " {'class': 'saudacao', 'sentence': ' bom dia, tudo bem?'},\n",
       " {'class': 'saudacao', 'sentence': ' olá tudo bem?'},\n",
       " {'class': 'saudacao', 'sentence': ' boa tarde'},\n",
       " {'class': 'despedida', 'sentence': ' tchau'},\n",
       " {'class': 'despedida', 'sentence': ' obrigada, até breve'},\n",
       " {'class': 'despedida', 'sentence': ' valeu, até mais'},\n",
       " {'class': 'despedida', 'sentence': ' ok, obrigado'},\n",
       " {'class': 'localizacao', 'sentence': ' aonde fica a secretaria?'},\n",
       " {'class': 'localizacao', 'sentence': ' qual a localizacao da secretaria?'},\n",
       " {'class': 'localizacao', 'sentence': ' qual o endereço da secretaria?'},\n",
       " {'class': 'localizacao', 'sentence': ' a secretaria fica aonde?'},\n",
       " {'class': 'horario',\n",
       "  'sentence': ' qual o horario de funcionamento da secretaria?'},\n",
       " {'class': 'horario', 'sentence': ' até que horas a secretaria fica aberta?'},\n",
       " {'class': 'horario', 'sentence': ' qu horas a secretaria abre?'},\n",
       " {'class': 'horario', 'sentence': ' que horas a secretaria fecha?'},\n",
       " {'class': 'contato', 'sentence': ' qual o telefone da secretaria?'},\n",
       " {'class': 'contato', 'sentence': ' qual o e-mail da secretaria?'},\n",
       " {'class': 'contato', 'sentence': ' qual a forma de contato da secretaria?'},\n",
       " {'class': 'contato', 'sentence': ' gostaria do numero da secretaria'}]"
      ]
     },
     "execution_count": 3,
     "metadata": {},
     "output_type": "execute_result"
    }
   ],
   "source": [
    "training_data"
   ]
  },
  {
   "cell_type": "code",
   "execution_count": 5,
   "metadata": {
    "collapsed": false
   },
   "outputs": [],
   "source": [
    "# Selecionando um stemmer para PT\n",
    "stemmer = SnowballStemmer(\"portuguese\")\n",
    "stopWords = list(set(stopwords.words('portuguese')))\n",
    "\n",
    "#Crio uma lista das classes de intenções\n",
    "classes = list()\n",
    "classes = list(set([classe['class'] for classe in training_data]))"
   ]
  },
  {
   "cell_type": "code",
   "execution_count": 6,
   "metadata": {
    "collapsed": false
   },
   "outputs": [
    {
     "data": {
      "text/plain": [
       "['saudacao', 'despedida', 'horario', 'contato', 'localizacao']"
      ]
     },
     "execution_count": 6,
     "metadata": {},
     "output_type": "execute_result"
    }
   ],
   "source": [
    "classes"
   ]
  },
  {
   "cell_type": "code",
   "execution_count": 14,
   "metadata": {
    "collapsed": false
   },
   "outputs": [],
   "source": [
    "#Probabilidades de C\n",
    "#Neste exemplo são todas iguais pois distribui igualmente o numero de sentencas\n",
    "    \n",
    "prob_c = {}\n",
    "for classe in classes:\n",
    "        prob_c[classe] = 0\n",
    "    \n",
    "for data in training_data:\n",
    "    for classe in classes:\n",
    "        if data['class'] == classe:\n",
    "            prob_c[classe] += 1\n",
    "for classe in classes:\n",
    "    prob_c[classe] = prob_c[classe]/len(training_data)"
   ]
  },
  {
   "cell_type": "code",
   "execution_count": 15,
   "metadata": {
    "collapsed": false
   },
   "outputs": [
    {
     "data": {
      "text/plain": [
       "{'contato': 0.2,\n",
       " 'despedida': 0.2,\n",
       " 'horario': 0.2,\n",
       " 'localizacao': 0.2,\n",
       " 'saudacao': 0.2}"
      ]
     },
     "execution_count": 15,
     "metadata": {},
     "output_type": "execute_result"
    }
   ],
   "source": [
    "prob_c"
   ]
  },
  {
   "cell_type": "code",
   "execution_count": 63,
   "metadata": {
    "collapsed": false
   },
   "outputs": [
    {
     "data": {
      "text/plain": [
       "{'contato': {'contat': 1,\n",
       "  'e-mail': 1,\n",
       "  'form': 1,\n",
       "  'gost': 1,\n",
       "  'numer': 1,\n",
       "  'secret': 4,\n",
       "  'telefon': 1},\n",
       " 'despedida': {'brev': 1, 'obrig': 2, 'ok': 1, 'tchau': 1, 'val': 1},\n",
       " 'horario': {'abert': 1,\n",
       "  'abre': 1,\n",
       "  'fech': 1,\n",
       "  'fic': 1,\n",
       "  'funcion': 1,\n",
       "  'hor': 3,\n",
       "  'horari': 1,\n",
       "  'qu': 1,\n",
       "  'secret': 4},\n",
       " 'localizacao': {'aond': 2,\n",
       "  'enderec': 1,\n",
       "  'fic': 2,\n",
       "  'localizaca': 1,\n",
       "  'secret': 4},\n",
       " 'saudacao': {'bem': 2,\n",
       "  'boa': 1,\n",
       "  'bom': 1,\n",
       "  'dia': 1,\n",
       "  'oi': 1,\n",
       "  'olá': 1,\n",
       "  'tard': 1,\n",
       "  'tud': 2}}"
      ]
     },
     "execution_count": 63,
     "metadata": {},
     "output_type": "execute_result"
    }
   ],
   "source": [
    "import pdb\n",
    "\n",
    "x = ''\n",
    "\n",
    "dicionario_1 = dict()\n",
    "for sentenca in training_data:\n",
    "    # tokenizar cada sentenca\n",
    "    \n",
    "    if x != sentenca['class']:\n",
    "        x = sentenca['class']\n",
    "        dicionario_2 = dict()\n",
    "     \n",
    "    for word in nltk.word_tokenize(sentenca['sentence']):\n",
    "        \n",
    "        if word not in (stopWords + ['.',',','?']):\n",
    "            # eliminando as terminacoes das palavras\n",
    "            stemmed_word = stemmer.stem(word.lower())\n",
    "              \n",
    "            if stemmed_word not in dicionario_2:                    \n",
    "                dicionario_2[stemmed_word] = 1            \n",
    "            else:\n",
    "                dicionario_2[stemmed_word] += 1\n",
    "        #pdb.set_trace()\n",
    "        dicionario_1[x] = dicionario_2\n",
    "            \n",
    "dicionario_1"
   ]
  },
  {
   "cell_type": "code",
   "execution_count": 70,
   "metadata": {
    "collapsed": false
   },
   "outputs": [
    {
     "data": {
      "text/plain": [
       "{'contato': {'contat': 2,\n",
       "  'e-mail': 2,\n",
       "  'form': 2,\n",
       "  'gost': 2,\n",
       "  'numer': 2,\n",
       "  'secret': 5,\n",
       "  'telefon': 2},\n",
       " 'despedida': {'brev': 2, 'obrig': 3, 'ok': 2, 'tchau': 2, 'val': 2},\n",
       " 'horario': {'abert': 2,\n",
       "  'abre': 2,\n",
       "  'fech': 2,\n",
       "  'fic': 2,\n",
       "  'funcion': 2,\n",
       "  'hor': 4,\n",
       "  'horari': 2,\n",
       "  'qu': 2,\n",
       "  'secret': 5},\n",
       " 'localizacao': {'aond': 3,\n",
       "  'enderec': 2,\n",
       "  'fic': 3,\n",
       "  'localizaca': 2,\n",
       "  'secret': 5},\n",
       " 'saudacao': {'bem': 3,\n",
       "  'boa': 2,\n",
       "  'bom': 2,\n",
       "  'dia': 2,\n",
       "  'oi': 2,\n",
       "  'olá': 2,\n",
       "  'tard': 2,\n",
       "  'tud': 3}}"
      ]
     },
     "execution_count": 70,
     "metadata": {},
     "output_type": "execute_result"
    }
   ],
   "source": [
    "# Vamos aplicar uma tecnica de suavizacao para tornar o modelo mais adequado\n",
    "\n",
    "suavizacao = dicionario_1\n",
    "\n",
    "for intencao in suavizacao:\n",
    "    for word in suavizacao[intencao]:\n",
    "         suavizacao[intencao][word] += 1\n",
    "# primeiro adicionamos 1 pra cada palavra q ja existe em cada classe\n",
    "suavizacao"
   ]
  },
  {
   "cell_type": "code",
   "execution_count": 71,
   "metadata": {
    "collapsed": false
   },
   "outputs": [
    {
     "data": {
      "text/plain": [
       "{'contato': {'abert': 1,\n",
       "  'abre': 1,\n",
       "  'aond': 1,\n",
       "  'bem': 1,\n",
       "  'boa': 1,\n",
       "  'bom': 1,\n",
       "  'brev': 1,\n",
       "  'contat': 2,\n",
       "  'dia': 1,\n",
       "  'e-mail': 2,\n",
       "  'enderec': 1,\n",
       "  'fech': 1,\n",
       "  'fic': 1,\n",
       "  'form': 2,\n",
       "  'funcion': 1,\n",
       "  'gost': 2,\n",
       "  'hor': 1,\n",
       "  'horari': 1,\n",
       "  'localizaca': 1,\n",
       "  'numer': 2,\n",
       "  'obrig': 1,\n",
       "  'oi': 1,\n",
       "  'ok': 1,\n",
       "  'olá': 1,\n",
       "  'qu': 1,\n",
       "  'secret': 5,\n",
       "  'tard': 1,\n",
       "  'tchau': 1,\n",
       "  'telefon': 2,\n",
       "  'tud': 1,\n",
       "  'val': 1},\n",
       " 'despedida': {'abert': 1,\n",
       "  'abre': 1,\n",
       "  'aond': 1,\n",
       "  'bem': 1,\n",
       "  'boa': 1,\n",
       "  'bom': 1,\n",
       "  'brev': 2,\n",
       "  'contat': 1,\n",
       "  'dia': 1,\n",
       "  'e-mail': 1,\n",
       "  'enderec': 1,\n",
       "  'fech': 1,\n",
       "  'fic': 1,\n",
       "  'form': 1,\n",
       "  'funcion': 1,\n",
       "  'gost': 1,\n",
       "  'hor': 1,\n",
       "  'horari': 1,\n",
       "  'localizaca': 1,\n",
       "  'numer': 1,\n",
       "  'obrig': 3,\n",
       "  'oi': 1,\n",
       "  'ok': 2,\n",
       "  'olá': 1,\n",
       "  'qu': 1,\n",
       "  'secret': 1,\n",
       "  'tard': 1,\n",
       "  'tchau': 2,\n",
       "  'telefon': 1,\n",
       "  'tud': 1,\n",
       "  'val': 2},\n",
       " 'horario': {'abert': 2,\n",
       "  'abre': 2,\n",
       "  'aond': 1,\n",
       "  'bem': 1,\n",
       "  'boa': 1,\n",
       "  'bom': 1,\n",
       "  'brev': 1,\n",
       "  'contat': 1,\n",
       "  'dia': 1,\n",
       "  'e-mail': 1,\n",
       "  'enderec': 1,\n",
       "  'fech': 2,\n",
       "  'fic': 2,\n",
       "  'form': 1,\n",
       "  'funcion': 2,\n",
       "  'gost': 1,\n",
       "  'hor': 4,\n",
       "  'horari': 2,\n",
       "  'localizaca': 1,\n",
       "  'numer': 1,\n",
       "  'obrig': 1,\n",
       "  'oi': 1,\n",
       "  'ok': 1,\n",
       "  'olá': 1,\n",
       "  'qu': 2,\n",
       "  'secret': 5,\n",
       "  'tard': 1,\n",
       "  'tchau': 1,\n",
       "  'telefon': 1,\n",
       "  'tud': 1,\n",
       "  'val': 1},\n",
       " 'localizacao': {'abert': 1,\n",
       "  'abre': 1,\n",
       "  'aond': 3,\n",
       "  'bem': 1,\n",
       "  'boa': 1,\n",
       "  'bom': 1,\n",
       "  'brev': 1,\n",
       "  'contat': 1,\n",
       "  'dia': 1,\n",
       "  'e-mail': 1,\n",
       "  'enderec': 2,\n",
       "  'fech': 1,\n",
       "  'fic': 3,\n",
       "  'form': 1,\n",
       "  'funcion': 1,\n",
       "  'gost': 1,\n",
       "  'hor': 1,\n",
       "  'horari': 1,\n",
       "  'localizaca': 2,\n",
       "  'numer': 1,\n",
       "  'obrig': 1,\n",
       "  'oi': 1,\n",
       "  'ok': 1,\n",
       "  'olá': 1,\n",
       "  'qu': 1,\n",
       "  'secret': 5,\n",
       "  'tard': 1,\n",
       "  'tchau': 1,\n",
       "  'telefon': 1,\n",
       "  'tud': 1,\n",
       "  'val': 1},\n",
       " 'saudacao': {'abert': 1,\n",
       "  'abre': 1,\n",
       "  'aond': 1,\n",
       "  'bem': 3,\n",
       "  'boa': 2,\n",
       "  'bom': 2,\n",
       "  'brev': 1,\n",
       "  'contat': 1,\n",
       "  'dia': 2,\n",
       "  'e-mail': 1,\n",
       "  'enderec': 1,\n",
       "  'fech': 1,\n",
       "  'fic': 1,\n",
       "  'form': 1,\n",
       "  'funcion': 1,\n",
       "  'gost': 1,\n",
       "  'hor': 1,\n",
       "  'horari': 1,\n",
       "  'localizaca': 1,\n",
       "  'numer': 1,\n",
       "  'obrig': 1,\n",
       "  'oi': 2,\n",
       "  'ok': 1,\n",
       "  'olá': 2,\n",
       "  'qu': 1,\n",
       "  'secret': 1,\n",
       "  'tard': 2,\n",
       "  'tchau': 1,\n",
       "  'telefon': 1,\n",
       "  'tud': 3,\n",
       "  'val': 1}}"
      ]
     },
     "execution_count": 71,
     "metadata": {},
     "output_type": "execute_result"
    }
   ],
   "source": [
    "for sentenca in training_data:\n",
    "    # tokenizar cada sentenca\n",
    "         \n",
    "    for word in nltk.word_tokenize(sentenca['sentence']):\n",
    "        if word not in (stopWords + ['.',',','?']):\n",
    "        # eliminando as terminacoes das palavras\n",
    "            stemmed_word = stemmer.stem(word.lower())\n",
    "        \n",
    "        for classe in classes:\n",
    "            \n",
    "            #Vamos acrescentar todo o vocabulario em todas as classes\n",
    "        \n",
    "            if stemmed_word not in suavizacao[classe]:\n",
    "                suavizacao[classe][stemmed_word] = 1\n",
    "              \n",
    "suavizacao"
   ]
  },
  {
   "cell_type": "code",
   "execution_count": 89,
   "metadata": {
    "collapsed": false
   },
   "outputs": [],
   "source": [
    "# Calcular score de uma sentenca nova\n",
    "\n",
    "def naive_bayes(sentenca, show_details=True):\n",
    "    import math\n",
    "    probabilidades = dict()\n",
    "    for intencao in classes:\n",
    "        \n",
    "        score = 0.0\n",
    "        somatorio = 0\n",
    "\n",
    "        # tokenize each word in our new sentence\n",
    "        for word in nltk.word_tokenize(sentenca):\n",
    "\n",
    "            # verificar se a palavra está em alguma classe\n",
    "            stemmed = stemmer.stem(word.lower())\n",
    "            if stemmed in suavizacao[intencao]:\n",
    "                                \n",
    "                # p(c)*p(atr/c)\n",
    "\n",
    "                prob_atr = suavizacao[intencao][stemmed]/sum(suavizacao[intencao].values())\n",
    "                somatorio = somatorio + math.log10(prob_atr)\n",
    "        \n",
    "        probabilidades[intencao] = math.log10(prob_c[intencao]) + somatorio\n",
    "        \n",
    "        from collections import OrderedDict\n",
    "        sorted_by_value = OrderedDict(sorted(probabilidades.items(), \n",
    "                                  key=lambda kv: kv[1], reverse=True))\n",
    "                                    \n",
    "            \n",
    "    return sorted_by_value"
   ]
  },
  {
   "cell_type": "code",
   "execution_count": 90,
   "metadata": {
    "collapsed": false
   },
   "outputs": [
    {
     "data": {
      "text/plain": [
       "OrderedDict([('horario', -4.65860754566205),\n",
       "             ('contato', -4.838351570159206),\n",
       "             ('localizacao', -4.838351570159206),\n",
       "             ('saudacao', -5.236291578831244),\n",
       "             ('despedida', -5.403575176537004)])"
      ]
     },
     "execution_count": 90,
     "metadata": {},
     "output_type": "execute_result"
    }
   ],
   "source": [
    "naive_bayes(\"oi qual o horario da secretaria?\")"
   ]
  },
  {
   "cell_type": "code",
   "execution_count": 91,
   "metadata": {
    "collapsed": false
   },
   "outputs": [
    {
     "data": {
      "text/plain": [
       "OrderedDict([('localizacao', -7.109676774159352),\n",
       "             ('horario', -7.965032573212738),\n",
       "             ('contato', -8.063919283598677),\n",
       "             ('saudacao', -8.160829296606734),\n",
       "             ('despedida', -8.539978624670994)])"
      ]
     },
     "execution_count": 91,
     "metadata": {},
     "output_type": "execute_result"
    }
   ],
   "source": [
    "naive_bayes(\"bom dia aonde fica a secretaria?\")"
   ]
  },
  {
   "cell_type": "code",
   "execution_count": 92,
   "metadata": {
    "collapsed": false
   },
   "outputs": [
    {
     "data": {
      "text/plain": [
       "OrderedDict([('despedida', -3.057222202086365),\n",
       "             ('saudacao', -3.9245377177754897),\n",
       "             ('contato', -3.9245377177754897),\n",
       "             ('localizacao', -3.9245377177754897),\n",
       "             ('horario', -4.005395031886707)])"
      ]
     },
     "execution_count": 92,
     "metadata": {},
     "output_type": "execute_result"
    }
   ],
   "source": [
    "naive_bayes(\"ok obrigada\")"
   ]
  },
  {
   "cell_type": "code",
   "execution_count": 93,
   "metadata": {
    "collapsed": false
   },
   "outputs": [
    {
     "data": {
      "text/plain": [
       "OrderedDict([('horario', -7.664002577548756),\n",
       "             ('contato', -8.063919283598677),\n",
       "             ('localizacao', -8.063919283598677),\n",
       "             ('saudacao', -8.160829296606734),\n",
       "             ('despedida', -8.539978624670994)])"
      ]
     },
     "execution_count": 93,
     "metadata": {},
     "output_type": "execute_result"
    }
   ],
   "source": [
    "naive_bayes(\"bom dia, por favor, poderia me informar o horario de funcionamento da secretaria?\")"
   ]
  },
  {
   "cell_type": "code",
   "execution_count": 94,
   "metadata": {
    "collapsed": false
   },
   "outputs": [
    {
     "data": {
      "text/plain": [
       "OrderedDict([('saudacao', -3.322477726447527),\n",
       "             ('despedida', -3.8353734524700087),\n",
       "             ('contato', -3.9245377177754897),\n",
       "             ('localizacao', -3.9245377177754897),\n",
       "             ('horario', -4.005395031886707)])"
      ]
     },
     "execution_count": 94,
     "metadata": {},
     "output_type": "execute_result"
    }
   ],
   "source": [
    "naive_bayes(\"bom dia\")"
   ]
  },
  {
   "cell_type": "code",
   "execution_count": 95,
   "metadata": {
    "collapsed": false
   },
   "outputs": [
    {
     "data": {
      "text/plain": [
       "OrderedDict([('contato', -2.9245377177754897),\n",
       "             ('localizacao', -3.225567713439471),\n",
       "             ('horario', -3.3064250275506875),\n",
       "             ('despedida', -3.8353734524700087),\n",
       "             ('saudacao', -3.9245377177754897)])"
      ]
     },
     "execution_count": 95,
     "metadata": {},
     "output_type": "execute_result"
    }
   ],
   "source": [
    "naive_bayes(\"poderia me informar o e-mail da secretaria?\")"
   ]
  },
  {
   "cell_type": "code",
   "execution_count": 97,
   "metadata": {
    "collapsed": false
   },
   "outputs": [
    {
     "data": {
      "text/plain": [
       "'contato'"
      ]
     },
     "execution_count": 97,
     "metadata": {},
     "output_type": "execute_result"
    }
   ],
   "source": [
    "list(naive_bayes(\"poderia me informar o e-mail da secretaria?\").keys())[0]"
   ]
  },
  {
   "cell_type": "code",
   "execution_count": null,
   "metadata": {
    "collapsed": true
   },
   "outputs": [],
   "source": []
  }
 ],
 "metadata": {
  "kernelspec": {
   "display_name": "Python 3",
   "language": "python",
   "name": "python3"
  },
  "language_info": {
   "codemirror_mode": {
    "name": "ipython",
    "version": 3
   },
   "file_extension": ".py",
   "mimetype": "text/x-python",
   "name": "python",
   "nbconvert_exporter": "python",
   "pygments_lexer": "ipython3",
   "version": "3.6.4"
  }
 },
 "nbformat": 4,
 "nbformat_minor": 2
}
